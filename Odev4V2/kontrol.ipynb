{
 "cells": [
  {
   "cell_type": "code",
   "execution_count": 2,
   "id": "05fe693d",
   "metadata": {},
   "outputs": [
    {
     "name": "stdout",
     "output_type": "stream",
     "text": [
      "CSV başarıyla Excel'e dönüştürüldü.\n"
     ]
    }
   ],
   "source": [
    "import pandas as pd\n",
    "\n",
    "# CSV dosyasını oku\n",
    "df = pd.read_csv(\"manuel_labels.csv\")\n",
    "\n",
    "# Excel'e dönüştür ve kaydet\n",
    "df.to_excel(\"manuel_labels.xlsx\", index=False)\n",
    "\n",
    "print(\"CSV başarıyla Excel'e dönüştürüldü.\")"
   ]
  },
  {
   "cell_type": "code",
   "execution_count": 1,
   "id": "748571c3",
   "metadata": {},
   "outputs": [
    {
     "name": "stdout",
     "output_type": "stream",
     "text": [
      "CSV başarıyla Excel'e dönüştürüldü.\n"
     ]
    }
   ],
   "source": [
    "import pandas as pd\n",
    "\n",
    "# CSV dosyasını oku\n",
    "df = pd.read_csv(\"gpt-5-nano-out1.csv\")\n",
    "\n",
    "# Excel'e dönüştür ve kaydet\n",
    "df.to_excel(\"gpt-5-nano-out1.xlsx\", index=False)\n",
    "\n",
    "print(\"CSV başarıyla Excel'e dönüştürüldü.\")"
   ]
  },
  {
   "cell_type": "code",
   "execution_count": null,
   "id": "88b29655",
   "metadata": {},
   "outputs": [],
   "source": []
  }
 ],
 "metadata": {
  "kernelspec": {
   "display_name": "transformers_env",
   "language": "python",
   "name": "python3"
  },
  "language_info": {
   "codemirror_mode": {
    "name": "ipython",
    "version": 3
   },
   "file_extension": ".py",
   "mimetype": "text/x-python",
   "name": "python",
   "nbconvert_exporter": "python",
   "pygments_lexer": "ipython3",
   "version": "3.10.18"
  }
 },
 "nbformat": 4,
 "nbformat_minor": 5
}
